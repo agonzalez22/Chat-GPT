{
 "cells": [
  {
   "cell_type": "markdown",
   "metadata": {
    "slideshow": {
     "slide_type": "slide"
    }
   },
   "source": [
    "# Let's build GTP: from scratch, in code, spelled out. "
   ]
  },
  {
   "cell_type": "code",
   "execution_count": 19,
   "metadata": {
    "slideshow": {
     "slide_type": "slide"
    }
   },
   "outputs": [],
   "source": [
    "with open('secret.txt', 'r', encoding=\"utf8\") as file: \n",
    "    text = file.read()"
   ]
  },
  {
   "cell_type": "code",
   "execution_count": 26,
   "metadata": {
    "slideshow": {
     "slide_type": "subslide"
    }
   },
   "outputs": [
    {
     "name": "stdout",
     "output_type": "stream",
     "text": [
      "length of file: 13667\n"
     ]
    }
   ],
   "source": [
    "print(f'length of file: {len(text)}')"
   ]
  },
  {
   "cell_type": "code",
   "execution_count": 21,
   "metadata": {
    "slideshow": {
     "slide_type": "slide"
    }
   },
   "outputs": [
    {
     "name": "stdout",
     "output_type": "stream",
     "text": [
      "Bueno, vamos a tratar dos asuntos:\n",
      "\n",
      "Hoy, miércoles, corresponde el ‘Quién es quién en las mentiras de la semana’, que cada vez son más las mentiras, llueven mentiras, hay tormenta de mentiras, porque hay medios que son fábricas de mentiras y de manipulación, medios de información, prensa escrita, radio, televisión, conductores de radio, conductores de televisión y también robots manejados, operados, aceitados con mucho dinero en las redes sociales, en las benditas redes sociales.\n",
      "\n",
      "Pero, en fin, así están las cosas y hay que estar por eso informando, esa es la mejor defensa, el estar aclarando las mentiras de nuestros adversarios. Por lo general es el bloque conservador, con su grupo de élite, este poder conservador que tiene voceros, tiene intelectuales. Ya me cuesta trabajo decir ‘intelectuales’, porque quien se entrega por entero a la mentira pierde la imaginación y el talento, que eso es lo que ha venido pasando.\n",
      "\n",
      "Además, en el periodo neoliberal, como parte de la decadencia, no sur\n"
     ]
    }
   ],
   "source": [
    "# lets look at the first 1000 characters\n",
    "print(text[:1000])"
   ]
  },
  {
   "attachments": {},
   "cell_type": "markdown",
   "metadata": {
    "slideshow": {
     "slide_type": "slide"
    }
   },
   "source": [
    "We are building a character-level language model, so we're just translating individual characters to integers. "
   ]
  },
  {
   "cell_type": "code",
   "execution_count": 22,
   "metadata": {
    "slideshow": {
     "slide_type": "subslide"
    }
   },
   "outputs": [
    {
     "name": "stdout",
     "output_type": "stream",
     "text": [
      "\n",
      " ,-.0123456789:;?ABCDEFGHIJKLMNOPQRSTUVXYZabcdefghijklmnopqrstuvwxyzº¿Ááéíñóú―‘’…\n",
      "82\n"
     ]
    }
   ],
   "source": [
    "# here are the unique characters\n",
    "chars = sorted(list(set(text)))\n",
    "vocab_size = len(chars)\n",
    "print(''.join(chars))\n",
    "print(vocab_size)"
   ]
  },
  {
   "cell_type": "code",
   "execution_count": 23,
   "metadata": {
    "slideshow": {
     "slide_type": "slide"
    }
   },
   "outputs": [
    {
     "name": "stdout",
     "output_type": "stream",
     "text": [
      "[50, 51, 51, 1, 62, 50, 47, 60, 47]\n",
      "hii there\n"
     ]
    }
   ],
   "source": [
    "stoi = {ch:i for i, ch in enumerate(chars)}\n",
    "itos = {i:ch for i, ch in enumerate(chars)}\n",
    "encode = lambda s: [stoi[c] for c in s] # encoder: take a string then generate a list of ints\n",
    "decode = lambda l: ''.join([itos[i] for i in l]) # decoder: take a list of ints and generate the strings \n",
    "\n",
    "print(encode(\"hii there\"))\n",
    "print(decode(encode(\"hii there\")))"
   ]
  },
  {
   "attachments": {},
   "cell_type": "markdown",
   "metadata": {
    "slideshow": {
     "slide_type": "slide"
    }
   },
   "source": [
    "From what I undderstand, a ``torch.Tensor`` is a multi-dimentional matrix that contains elements of something. (Similar to a Numpy Array)"
   ]
  },
  {
   "cell_type": "code",
   "execution_count": 24,
   "metadata": {
    "slideshow": {
     "slide_type": "subslide"
    }
   },
   "outputs": [
    {
     "name": "stdout",
     "output_type": "stream",
     "text": [
      "torch.Size([13667]) torch.int64\n",
      "tensor([19, 63, 47, 56, 57,  2,  1, 64, 43, 55, 57, 61,  1, 43,  1, 62, 60, 43,\n",
      "        62, 43, 60,  1, 46, 57, 61,  1, 43, 61, 63, 56, 62, 57, 61, 15,  0,  0,\n",
      "        25, 57, 67,  2,  1, 55, 51, 73, 60, 45, 57, 54, 47, 61,  2,  1, 45, 57,\n",
      "        60, 60, 47, 61, 58, 57, 56, 46, 47,  1, 47, 54,  1, 79, 34, 63, 51, 73,\n",
      "        56,  1, 47, 61,  1, 59, 63, 51, 73, 56,  1, 47, 56,  1, 54, 43, 61,  1,\n",
      "        55, 47, 56, 62, 51, 60, 43, 61,  1, 46, 47,  1, 54, 43,  1, 61, 47, 55,\n",
      "        43, 56, 43, 80,  2,  1, 59, 63, 47,  1, 45, 43, 46, 43,  1, 64, 47, 68,\n",
      "         1, 61, 57, 56,  1, 55, 72, 61,  1, 54, 43, 61,  1, 55, 47, 56, 62, 51,\n",
      "        60, 43, 61,  2,  1, 54, 54, 63, 47, 64, 47, 56,  1, 55, 47, 56, 62, 51,\n",
      "        60, 43, 61,  2,  1, 50, 43, 67,  1, 62, 57, 60, 55, 47, 56, 62, 43,  1,\n",
      "        46, 47,  1, 55, 47, 56, 62, 51, 60, 43, 61,  2,  1, 58, 57, 60, 59, 63,\n",
      "        47,  1, 50, 43, 67,  1, 55, 47, 46, 51, 57, 61,  1, 59, 63, 47,  1, 61,\n",
      "        57, 56,  1, 48, 72, 44, 60, 51, 45, 43, 61,  1, 46, 47,  1, 55, 47, 56,\n",
      "        62, 51, 60, 43, 61,  1, 67,  1, 46, 47,  1, 55, 43, 56, 51, 58, 63, 54,\n",
      "        43, 45, 51, 76, 56,  2,  1, 55, 47, 46, 51, 57, 61,  1, 46, 47,  1, 51,\n",
      "        56, 48, 57, 60, 55, 43, 45, 51, 76, 56,  2,  1, 58, 60, 47, 56, 61, 43,\n",
      "         1, 47, 61, 45, 60, 51, 62, 43,  2,  1, 60, 43, 46, 51, 57,  2,  1, 62,\n",
      "        47, 54, 47, 64, 51, 61, 51, 76, 56,  2,  1, 45, 57, 56, 46, 63, 45, 62,\n",
      "        57, 60, 47, 61,  1, 46, 47,  1, 60, 43, 46, 51, 57,  2,  1, 45, 57, 56,\n",
      "        46, 63, 45, 62, 57, 60, 47, 61,  1, 46, 47,  1, 62, 47, 54, 47, 64, 51,\n",
      "        61, 51, 76, 56,  1, 67,  1, 62, 43, 55, 44, 51, 73, 56,  1, 60, 57, 44,\n",
      "        57, 62, 61,  1, 55, 43, 56, 47, 52, 43, 46, 57, 61,  2,  1, 57, 58, 47,\n",
      "        60, 43, 46, 57, 61,  2,  1, 43, 45, 47, 51, 62, 43, 46, 57, 61,  1, 45,\n",
      "        57, 56,  1, 55, 63, 45, 50, 57,  1, 46, 51, 56, 47, 60, 57,  1, 47, 56,\n",
      "         1, 54, 43, 61,  1, 60, 47, 46, 47, 61,  1, 61, 57, 45, 51, 43, 54, 47,\n",
      "        61,  2,  1, 47, 56,  1, 54, 43, 61,  1, 44, 47, 56, 46, 51, 62, 43, 61,\n",
      "         1, 60, 47, 46, 47, 61,  1, 61, 57, 45, 51, 43, 54, 47, 61,  4,  0,  0,\n",
      "        33, 47, 60, 57,  2,  1, 47, 56,  1, 48, 51, 56,  2,  1, 43, 61, 74,  1,\n",
      "        47, 61, 62, 72, 56,  1, 54, 43, 61,  1, 45, 57, 61, 43, 61,  1, 67,  1,\n",
      "        50, 43, 67,  1, 59, 63, 47,  1, 47, 61, 62, 43, 60,  1, 58, 57, 60,  1,\n",
      "        47, 61, 57,  1, 51, 56, 48, 57, 60, 55, 43, 56, 46, 57,  2,  1, 47, 61,\n",
      "        43,  1, 47, 61,  1, 54, 43,  1, 55, 47, 52, 57, 60,  1, 46, 47, 48, 47,\n",
      "        56, 61, 43,  2,  1, 47, 54,  1, 47, 61, 62, 43, 60,  1, 43, 45, 54, 43,\n",
      "        60, 43, 56, 46, 57,  1, 54, 43, 61,  1, 55, 47, 56, 62, 51, 60, 43, 61,\n",
      "         1, 46, 47,  1, 56, 63, 47, 61, 62, 60, 57, 61,  1, 43, 46, 64, 47, 60,\n",
      "        61, 43, 60, 51, 57, 61,  4,  1, 33, 57, 60,  1, 54, 57,  1, 49, 47, 56,\n",
      "        47, 60, 43, 54,  1, 47, 61,  1, 47, 54,  1, 44, 54, 57, 59, 63, 47,  1,\n",
      "        45, 57, 56, 61, 47, 60, 64, 43, 46, 57, 60,  2,  1, 45, 57, 56,  1, 61,\n",
      "        63,  1, 49, 60, 63, 58, 57,  1, 46, 47,  1, 73, 54, 51, 62, 47,  2,  1,\n",
      "        47, 61, 62, 47,  1, 58, 57, 46, 47, 60,  1, 45, 57, 56, 61, 47, 60, 64,\n",
      "        43, 46, 57, 60,  1, 59, 63, 47,  1, 62, 51, 47, 56, 47,  1, 64, 57, 45,\n",
      "        47, 60, 57, 61,  2,  1, 62, 51, 47, 56, 47,  1, 51, 56, 62, 47, 54, 47,\n",
      "        45, 62, 63, 43, 54, 47, 61,  4,  1, 41, 43,  1, 55, 47,  1, 45, 63, 47,\n",
      "        61, 62, 43,  1, 62, 60, 43, 44, 43, 52, 57,  1, 46, 47, 45, 51, 60,  1,\n",
      "        79, 51, 56, 62, 47, 54, 47, 45, 62, 63, 43, 54, 47, 61, 80,  2,  1, 58,\n",
      "        57, 60, 59, 63, 47,  1, 59, 63, 51, 47, 56,  1, 61, 47,  1, 47, 56, 62,\n",
      "        60, 47, 49, 43,  1, 58, 57, 60,  1, 47, 56, 62, 47, 60, 57,  1, 43,  1,\n",
      "        54, 43,  1, 55, 47, 56, 62, 51, 60, 43,  1, 58, 51, 47, 60, 46, 47,  1,\n",
      "        54, 43,  1, 51, 55, 43, 49, 51, 56, 43, 45, 51, 76, 56,  1, 67,  1, 47,\n",
      "        54,  1, 62, 43, 54, 47, 56, 62, 57,  2,  1, 59, 63, 47,  1, 47, 61, 57,\n",
      "         1, 47, 61,  1, 54, 57,  1, 59, 63, 47,  1, 50, 43,  1, 64, 47, 56, 51,\n",
      "        46, 57,  1, 58, 43, 61, 43, 56, 46, 57,  4,  0,  0, 18, 46, 47, 55, 72,\n",
      "        61,  2,  1, 47, 56,  1, 47, 54,  1, 58, 47, 60, 51, 57, 46, 57,  1, 56,\n",
      "        47, 57, 54, 51, 44, 47, 60, 43, 54,  2,  1, 45, 57, 55, 57,  1, 58, 43,\n",
      "        60, 62, 47,  1, 46, 47,  1, 54, 43,  1, 46, 47, 45, 43, 46, 47, 56, 45,\n",
      "        51, 43,  2,  1, 56, 57,  1, 61, 63, 60])\n"
     ]
    }
   ],
   "source": [
    "# let's now encode the entire text dataset and store it into a torch.Tensor\n",
    "import torch # we use PyTorch: https://pytorch.org\n",
    "data = torch.tensor(encode(text), dtype=torch.long)\n",
    "print(data.shape, data.dtype)\n",
    "print(data[:1000]) # the 1000 characters we looked at earier will to the GPT look like this"
   ]
  },
  {
   "attachments": {},
   "cell_type": "markdown",
   "metadata": {},
   "source": [
    "# Final Code"
   ]
  },
  {
   "cell_type": "code",
   "execution_count": 25,
   "metadata": {},
   "outputs": [
    {
     "name": "stdout",
     "output_type": "stream",
     "text": [
      "0.211922 M parameters\n",
      "step 0: train loss 4.5825, val loss 4.5901\n",
      "step 100: train loss 2.5221, val loss 2.5201\n",
      "step 200: train loss 2.3595, val loss 2.3714\n",
      "step 300: train loss 2.2756, val loss 2.3051\n",
      "step 400: train loss 2.1819, val loss 2.2397\n",
      "step 500: train loss 2.0679, val loss 2.1802\n",
      "step 600: train loss 1.9611, val loss 2.1318\n",
      "step 700: train loss 1.8601, val loss 2.1054\n",
      "step 800: train loss 1.7590, val loss 2.0595\n",
      "step 900: train loss 1.6655, val loss 2.0478\n",
      "step 1000: train loss 1.5655, val loss 2.0714\n",
      "step 1100: train loss 1.4813, val loss 2.0665\n",
      "step 1200: train loss 1.3826, val loss 2.0486\n",
      "step 1300: train loss 1.2992, val loss 2.0752\n",
      "step 1400: train loss 1.2183, val loss 2.1188\n",
      "step 1500: train loss 1.1370, val loss 2.1433\n",
      "step 1600: train loss 1.0613, val loss 2.2130\n",
      "step 1700: train loss 0.9839, val loss 2.2094\n",
      "step 1800: train loss 0.9146, val loss 2.2870\n",
      "step 1900: train loss 0.8492, val loss 2.3101\n",
      "step 2000: train loss 0.8153, val loss 2.3912\n",
      "step 2100: train loss 0.7437, val loss 2.5144\n",
      "step 2200: train loss 0.6955, val loss 2.4830\n",
      "step 2300: train loss 0.6598, val loss 2.5573\n",
      "step 2400: train loss 0.6211, val loss 2.6680\n",
      "step 2500: train loss 0.5910, val loss 2.7540\n",
      "step 2600: train loss 0.5497, val loss 2.7675\n",
      "step 2700: train loss 0.5353, val loss 2.8132\n",
      "step 2800: train loss 0.5104, val loss 2.8511\n",
      "step 2900: train loss 0.4849, val loss 2.9816\n",
      "step 3000: train loss 0.4671, val loss 3.0740\n",
      "step 3100: train loss 0.4669, val loss 3.0617\n",
      "step 3200: train loss 0.4495, val loss 3.0885\n",
      "step 3300: train loss 0.4379, val loss 3.1190\n",
      "step 3400: train loss 0.4339, val loss 3.1042\n",
      "step 3500: train loss 0.4178, val loss 3.1922\n",
      "step 3600: train loss 0.4142, val loss 3.1831\n",
      "step 3700: train loss 0.4085, val loss 3.2351\n",
      "step 3800: train loss 0.4052, val loss 3.3592\n",
      "step 3900: train loss 0.3935, val loss 3.3183\n",
      "step 4000: train loss 0.3914, val loss 3.3822\n",
      "step 4100: train loss 0.3901, val loss 3.4741\n",
      "step 4200: train loss 0.3862, val loss 3.4657\n",
      "step 4300: train loss 0.3707, val loss 3.4414\n",
      "step 4400: train loss 0.3712, val loss 3.3884\n",
      "step 4500: train loss 0.3681, val loss 3.5393\n",
      "step 4600: train loss 0.3619, val loss 3.4704\n",
      "step 4700: train loss 0.3569, val loss 3.4654\n",
      "step 4800: train loss 0.3638, val loss 3.4488\n",
      "step 4900: train loss 0.3633, val loss 3.5155\n",
      "step 4999: train loss 0.3612, val loss 3.4765\n",
      "\n",
      "\n",
      "Hasta aquí esta.\n",
      "\n",
      "Para ver a sobre el intralicario, colabora en el Latinus, de Loret, colabora en el Latinus, de Loret, y suscriben dondos fondes anistas.\n",
      "\n",
      "PAquí vor son aliado estratégico de Mexicanos a favor de la Corrupción, de Claudio X. González recibió nada más y nada mucho y se hajustan de doctubrencia de y otro por 60 millones de dólares, 54 millones 520, mil pesos.\n",
      "\n",
      "Pen escupero y son alguro que tittiene Krauze o México Evalúa?\n",
      "\n",
      "Ellos son aliado esto trabajando en ese lugar. No está rellena de para la USAID para supuestar en un npocto un finto para la USAID, Agencia de intrato para la Democy tura al diperado es acuenta nota transparencianto en libro ucorganizaciones de la sociedad civadada más y supuen montiran la USAID por supuesto; la NED, que ese repúblicacy al transta por un monto oficial, publica datos falseada, compartiero esos intelectuales del nestra de estadrás.\n",
      "\n",
      "Pero eso 12 millones 100 mil poritiliánes, mientiras que activa.\n",
      "\n",
      "Eston tanparencia de los rítos sociales.\n",
      "\n",
      "P,ay el por udicas, como Quaparan Cintantilos los del trardardarrencia de Mexicanos a transparencia, que tada transparencia de Mexicanos a favor de la Corrupción ha PaáHicienda’ infantil, así soginanpor el pexteriodo de 2023 y que publica Fotorcks es en para la Demoriario no vamparones de pesos.\n",
      "\n",
      "Pero ¿quiénes son México Estncervamento de Estados Unidos, a transparenta esta nota.\n",
      "\n",
      "Y vamos con la siguiernada que tituenó… López Obrador. Edna Jaime escribe el pesos.\n",
      "\n",
      "Pero ¿quiénes son México Evalúa?\n",
      "\n",
      "Ellos son aliado estratégico de Mexicanos a favor de la Corrupción y la USAID por sus sintiencualismo para se hace pasantallo, compartiero es arqueológico sin preceder como herránido que tienólo, desarquiere cuentran la USAID por supuesto y no ocurre y por eso están tan enojados, porque inciento lo quién es gobiernos neoliberal, como ColomáHis.\n",
      "\n",
      "A, mil penciara por la 4T’.\n",
      "\n",
      "Ede la sera hace presión y a nada más y no hablando de los ríticos de tratariodo de 324T y nada muy se no halsos.\n",
      "\n",
      "Pe\n"
     ]
    }
   ],
   "source": [
    "import torch\n",
    "import torch.nn as nn\n",
    "from torch.nn import functional as F\n",
    "\n",
    "# hyperparameters\n",
    "batch_size = 16 # how many independent sequences will we process in parallel?\n",
    "block_size = 32 # what is the maximum context length for predictions?\n",
    "max_iters = 5000\n",
    "eval_interval = 100\n",
    "learning_rate = 1e-3\n",
    "device = 'cuda' if torch.cuda.is_available() else 'cpu'\n",
    "eval_iters = 200\n",
    "n_embd = 64\n",
    "n_head = 4\n",
    "n_layer = 4\n",
    "dropout = 0.0\n",
    "# ------------\n",
    "\n",
    "torch.manual_seed(1337)\n",
    "\n",
    "# wget https://raw.githubusercontent.com/karpathy/char-rnn/master/data/tinyshakespeare/input.txt\n",
    "with open('secret.txt', 'r', encoding='utf-8') as f:\n",
    "    text = f.read()\n",
    "\n",
    "# here are all the unique characters that occur in this text\n",
    "chars = sorted(list(set(text)))\n",
    "vocab_size = len(chars)\n",
    "# create a mapping from characters to integers\n",
    "stoi = { ch:i for i,ch in enumerate(chars) }\n",
    "itos = { i:ch for i,ch in enumerate(chars) }\n",
    "encode = lambda s: [stoi[c] for c in s] # encoder: take a string, output a list of integers\n",
    "decode = lambda l: ''.join([itos[i] for i in l]) # decoder: take a list of integers, output a string\n",
    "\n",
    "# Train and test splits\n",
    "data = torch.tensor(encode(text), dtype=torch.long)\n",
    "n = int(0.9*len(data)) # first 90% will be train, rest val\n",
    "train_data = data[:n]\n",
    "val_data = data[n:]\n",
    "\n",
    "# data loading\n",
    "def get_batch(split):\n",
    "    # generate a small batch of data of inputs x and targets y\n",
    "    data = train_data if split == 'train' else val_data\n",
    "    ix = torch.randint(len(data) - block_size, (batch_size,))\n",
    "    x = torch.stack([data[i:i+block_size] for i in ix])\n",
    "    y = torch.stack([data[i+1:i+block_size+1] for i in ix])\n",
    "    x, y = x.to(device), y.to(device)\n",
    "    return x, y\n",
    "\n",
    "@torch.no_grad()\n",
    "def estimate_loss():\n",
    "    out = {}\n",
    "    model.eval()\n",
    "    for split in ['train', 'val']:\n",
    "        losses = torch.zeros(eval_iters)\n",
    "        for k in range(eval_iters):\n",
    "            X, Y = get_batch(split)\n",
    "            logits, loss = model(X, Y)\n",
    "            losses[k] = loss.item()\n",
    "        out[split] = losses.mean()\n",
    "    model.train()\n",
    "    return out\n",
    "\n",
    "class Head(nn.Module):\n",
    "    \"\"\" one head of self-attention \"\"\"\n",
    "\n",
    "    def __init__(self, head_size):\n",
    "        super().__init__()\n",
    "        self.key = nn.Linear(n_embd, head_size, bias=False)\n",
    "        self.query = nn.Linear(n_embd, head_size, bias=False)\n",
    "        self.value = nn.Linear(n_embd, head_size, bias=False)\n",
    "        self.register_buffer('tril', torch.tril(torch.ones(block_size, block_size)))\n",
    "\n",
    "        self.dropout = nn.Dropout(dropout)\n",
    "\n",
    "    def forward(self, x):\n",
    "        B,T,C = x.shape\n",
    "        k = self.key(x)   # (B,T,C)\n",
    "        q = self.query(x) # (B,T,C)\n",
    "        # compute attention scores (\"affinities\")\n",
    "        wei = q @ k.transpose(-2,-1) * C**-0.5 # (B, T, C) @ (B, C, T) -> (B, T, T)\n",
    "        wei = wei.masked_fill(self.tril[:T, :T] == 0, float('-inf')) # (B, T, T)\n",
    "        wei = F.softmax(wei, dim=-1) # (B, T, T)\n",
    "        wei = self.dropout(wei)\n",
    "        # perform the weighted aggregation of the values\n",
    "        v = self.value(x) # (B,T,C)\n",
    "        out = wei @ v # (B, T, T) @ (B, T, C) -> (B, T, C)\n",
    "        return out\n",
    "\n",
    "class MultiHeadAttention(nn.Module):\n",
    "    \"\"\" multiple heads of self-attention in parallel \"\"\"\n",
    "\n",
    "    def __init__(self, num_heads, head_size):\n",
    "        super().__init__()\n",
    "        self.heads = nn.ModuleList([Head(head_size) for _ in range(num_heads)])\n",
    "        self.proj = nn.Linear(n_embd, n_embd)\n",
    "        self.dropout = nn.Dropout(dropout)\n",
    "\n",
    "    def forward(self, x):\n",
    "        out = torch.cat([h(x) for h in self.heads], dim=-1)\n",
    "        out = self.dropout(self.proj(out))\n",
    "        return out\n",
    "\n",
    "class FeedFoward(nn.Module):\n",
    "    \"\"\" a simple linear layer followed by a non-linearity \"\"\"\n",
    "\n",
    "    def __init__(self, n_embd):\n",
    "        super().__init__()\n",
    "        self.net = nn.Sequential(\n",
    "            nn.Linear(n_embd, 4 * n_embd),\n",
    "            nn.ReLU(),\n",
    "            nn.Linear(4 * n_embd, n_embd),\n",
    "            nn.Dropout(dropout),\n",
    "        )\n",
    "\n",
    "    def forward(self, x):\n",
    "        return self.net(x)\n",
    "\n",
    "class Block(nn.Module):\n",
    "    \"\"\" Transformer block: communication followed by computation \"\"\"\n",
    "\n",
    "    def __init__(self, n_embd, n_head):\n",
    "        # n_embd: embedding dimension, n_head: the number of heads we'd like\n",
    "        super().__init__()\n",
    "        head_size = n_embd // n_head\n",
    "        self.sa = MultiHeadAttention(n_head, head_size)\n",
    "        self.ffwd = FeedFoward(n_embd)\n",
    "        self.ln1 = nn.LayerNorm(n_embd)\n",
    "        self.ln2 = nn.LayerNorm(n_embd)\n",
    "\n",
    "    def forward(self, x):\n",
    "        x = x + self.sa(self.ln1(x))\n",
    "        x = x + self.ffwd(self.ln2(x))\n",
    "        return x\n",
    "\n",
    "# super simple bigram model\n",
    "class BigramLanguageModel(nn.Module):\n",
    "\n",
    "    def __init__(self):\n",
    "        super().__init__()\n",
    "        # each token directly reads off the logits for the next token from a lookup table\n",
    "        self.token_embedding_table = nn.Embedding(vocab_size, n_embd)\n",
    "        self.position_embedding_table = nn.Embedding(block_size, n_embd)\n",
    "        self.blocks = nn.Sequential(*[Block(n_embd, n_head=n_head) for _ in range(n_layer)])\n",
    "        self.ln_f = nn.LayerNorm(n_embd) # final layer norm\n",
    "        self.lm_head = nn.Linear(n_embd, vocab_size)\n",
    "\n",
    "    def forward(self, idx, targets=None):\n",
    "        B, T = idx.shape\n",
    "\n",
    "        # idx and targets are both (B,T) tensor of integers\n",
    "        tok_emb = self.token_embedding_table(idx) # (B,T,C)\n",
    "        pos_emb = self.position_embedding_table(torch.arange(T, device=device)) # (T,C)\n",
    "        x = tok_emb + pos_emb # (B,T,C)\n",
    "        x = self.blocks(x) # (B,T,C)\n",
    "        x = self.ln_f(x) # (B,T,C)\n",
    "        logits = self.lm_head(x) # (B,T,vocab_size)\n",
    "\n",
    "        if targets is None:\n",
    "            loss = None\n",
    "        else:\n",
    "            B, T, C = logits.shape\n",
    "            logits = logits.view(B*T, C)\n",
    "            targets = targets.view(B*T)\n",
    "            loss = F.cross_entropy(logits, targets)\n",
    "\n",
    "        return logits, loss\n",
    "\n",
    "    def generate(self, idx, max_new_tokens):\n",
    "        # idx is (B, T) array of indices in the current context\n",
    "        for _ in range(max_new_tokens):\n",
    "            # crop idx to the last block_size tokens\n",
    "            idx_cond = idx[:, -block_size:]\n",
    "            # get the predictions\n",
    "            logits, loss = self(idx_cond)\n",
    "            # focus only on the last time step\n",
    "            logits = logits[:, -1, :] # becomes (B, C)\n",
    "            # apply softmax to get probabilities\n",
    "            probs = F.softmax(logits, dim=-1) # (B, C)\n",
    "            # sample from the distribution\n",
    "            idx_next = torch.multinomial(probs, num_samples=1) # (B, 1)\n",
    "            # append sampled index to the running sequence\n",
    "            idx = torch.cat((idx, idx_next), dim=1) # (B, T+1)\n",
    "        return idx\n",
    "\n",
    "model = BigramLanguageModel()\n",
    "m = model.to(device)\n",
    "# print the number of parameters in the model\n",
    "print(sum(p.numel() for p in m.parameters())/1e6, 'M parameters')\n",
    "\n",
    "# create a PyTorch optimizer\n",
    "optimizer = torch.optim.AdamW(model.parameters(), lr=learning_rate)\n",
    "\n",
    "for iter in range(max_iters):\n",
    "\n",
    "    # every once in a while evaluate the loss on train and val sets\n",
    "    if iter % eval_interval == 0 or iter == max_iters - 1:\n",
    "        losses = estimate_loss()\n",
    "        print(f\"step {iter}: train loss {losses['train']:.4f}, val loss {losses['val']:.4f}\")\n",
    "\n",
    "    # sample a batch of data\n",
    "    xb, yb = get_batch('train')\n",
    "\n",
    "    # evaluate the loss\n",
    "    logits, loss = model(xb, yb)\n",
    "    optimizer.zero_grad(set_to_none=True)\n",
    "    loss.backward()\n",
    "    optimizer.step()\n",
    "\n",
    "# generate from the model\n",
    "context = torch.zeros((1, 1), dtype=torch.long, device=device)\n",
    "print(decode(m.generate(context, max_new_tokens=2000)[0].tolist()))\n"
   ]
  }
 ],
 "metadata": {
  "celltoolbar": "Slideshow",
  "kernelspec": {
   "display_name": "Python 3 (ipykernel)",
   "language": "python",
   "name": "python3"
  },
  "language_info": {
   "codemirror_mode": {
    "name": "ipython",
    "version": 3
   },
   "file_extension": ".py",
   "mimetype": "text/x-python",
   "name": "python",
   "nbconvert_exporter": "python",
   "pygments_lexer": "ipython3",
   "version": "3.11.0"
  }
 },
 "nbformat": 4,
 "nbformat_minor": 2
}

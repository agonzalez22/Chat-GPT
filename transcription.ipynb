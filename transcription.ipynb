{
 "cells": [
  {
   "cell_type": "markdown",
   "metadata": {
    "slideshow": {
     "slide_type": "slide"
    }
   },
   "source": [
    "# Let's build GTP: from scratch, in code, spelled out. "
   ]
  },
  {
   "cell_type": "code",
   "execution_count": 1,
   "metadata": {
    "slideshow": {
     "slide_type": "slide"
    }
   },
   "outputs": [],
   "source": [
    "with open('test.txt', 'r', encoding=\"utf8\") as file: \n",
    "    text = file.read()"
   ]
  },
  {
   "cell_type": "code",
   "execution_count": 2,
   "metadata": {},
   "outputs": [
    {
     "name": "stdout",
     "output_type": "stream",
     "text": [
      "length of file: 826863\n"
     ]
    }
   ],
   "source": [
    "print(f'length of file: {len(text)}')"
   ]
  },
  {
   "cell_type": "code",
   "execution_count": 3,
   "metadata": {},
   "outputs": [
    {
     "name": "stdout",
     "output_type": "stream",
     "text": [
      "Gabriel García Márquez \n",
      "\n",
      "\n",
      "\n",
      "Cien años de soledad \n",
      "\n",
      "\n",
      "\n",
      "EDITADO POR \"EDICIONES LA CUEVA\" \n",
      "\n",
      "\n",
      "\n",
      "Para J omi García Ascot \n",
      "y María Luisa Elio \n",
      "\n",
      "\n",
      "\n",
      "Cien años de soledad \n",
      "\n",
      "\n",
      "\n",
      "Gabriel García Márquez \n",
      "\n",
      "\n",
      "\n",
      "Muchos años después, frente al pelotón de fusilamiento, el coronel Aureliano Buendía había de \n",
      "recordar aquella tarde remota en que su padre lo llevó a conocer el hielo. Macondo era entonces \n",
      "una aldea de veinte casas de barro y cañabrava construidas a la orilla de un río de aguas diáfanas \n",
      "que se precipitaban por un lecho de piedras pulidas, blancas y enormes como huevos \n",
      "prehistóricos. El mundo era tan reciente, que muchas cosas carecían de nombre, y para \n",
      "mencionarlas había que señalarías con el dedo. Todos los años, por el mes de marzo, una familia \n",
      "de gitanos desarrapados plantaba su carpa cerca de la aldea, y con un grande alboroto de pitos y \n",
      "timbales daban a conocer los nuevos inventos. Primero llevaron el imán. Un gitano corpulento, de \n",
      "barba montaraz y manos de gorrión, que se presentó con \n"
     ]
    }
   ],
   "source": [
    "# lets look at the first 1000 characters\n",
    "print(text[:1000])"
   ]
  },
  {
   "attachments": {},
   "cell_type": "markdown",
   "metadata": {
    "slideshow": {
     "slide_type": "slide"
    }
   },
   "source": [
    "## Encoding and Decoding (assigning numerical values to tokens and vice versa)"
   ]
  },
  {
   "attachments": {},
   "cell_type": "markdown",
   "metadata": {},
   "source": [
    "We are building a character-level language model, so we're just translating individual characters to integers. "
   ]
  },
  {
   "cell_type": "code",
   "execution_count": 4,
   "metadata": {},
   "outputs": [
    {
     "name": "stdout",
     "output_type": "stream",
     "text": [
      "\n",
      " !\"'(),-.0123456789:;<?ABCDEFGHIJKLMNOPQRSTUVWXYZabcdefghijklmnopqrstuvwxyz~¡«»¿ÁÉÍÑÚáéíñóúü\n",
      "93\n"
     ]
    }
   ],
   "source": [
    "# here are the unique characters\n",
    "chars = sorted(list(set(text)))\n",
    "vocab_size = len(chars)\n",
    "print(''.join(chars))\n",
    "print(vocab_size)"
   ]
  },
  {
   "cell_type": "code",
   "execution_count": 5,
   "metadata": {},
   "outputs": [
    {
     "name": "stdout",
     "output_type": "stream",
     "text": [
      "[57, 58, 58, 1, 69, 57, 54, 67, 54]\n",
      "hii there\n"
     ]
    }
   ],
   "source": [
    "stoi = {ch:i for i, ch in enumerate(chars)}\n",
    "itos = {i:ch for i, ch in enumerate(chars)}\n",
    "encode = lambda s: [stoi[c] for c in s] # encoder: take a string then generate a list of ints\n",
    "decode = lambda l: ''.join([itos[i] for i in l]) # decoder: take a list of ints and generate the strings \n",
    "\n",
    "print(encode(\"hii there\"))\n",
    "print(decode(encode(\"hii there\")))"
   ]
  },
  {
   "attachments": {},
   "cell_type": "markdown",
   "metadata": {
    "slideshow": {
     "slide_type": "slide"
    }
   },
   "source": [
    "# Important things to note: \n",
    "- Chat GPT uses a library called 'tiktoken'\n",
    "- Longer library of tokens, but shorter output when encoding "
   ]
  },
  {
   "cell_type": "code",
   "execution_count": 6,
   "metadata": {},
   "outputs": [
    {
     "name": "stdout",
     "output_type": "stream",
     "text": [
      "hii there\n"
     ]
    },
    {
     "data": {
      "text/plain": [
       "[71, 3893, 1070]"
      ]
     },
     "execution_count": 6,
     "metadata": {},
     "output_type": "execute_result"
    }
   ],
   "source": [
    "import tiktoken \n",
    "\n",
    "# lets compare the outputs and the length of the tokenization \n",
    "print('hii there')\n",
    "enc = tiktoken.get_encoding(\"cl100k_base\")\n",
    "enc.encode('hii there')"
   ]
  },
  {
   "attachments": {},
   "cell_type": "markdown",
   "metadata": {
    "slideshow": {
     "slide_type": "slide"
    }
   },
   "source": [
    "From what I undderstand, a ``torch.Tensor`` is a multi-dimentional matrix that contains elements of something. (Similar to a Numpy Array)"
   ]
  },
  {
   "cell_type": "code",
   "execution_count": 7,
   "metadata": {},
   "outputs": [
    {
     "name": "stdout",
     "output_type": "stream",
     "text": [
      "torch.Size([826863]) torch.int64\n",
      "tensor([30, 50, 51, 67, 58, 54, 61,  1, 30, 50, 67, 52, 88, 50,  1, 36, 86, 67,\n",
      "        66, 70, 54, 75,  1,  0,  0,  0,  0, 26, 58, 54, 63,  1, 50, 89, 64, 68,\n",
      "         1, 53, 54,  1, 68, 64, 61, 54, 53, 50, 53,  1,  0,  0,  0,  0, 28, 27,\n",
      "        32, 43, 24, 27, 38,  1, 39, 38, 41,  1,  3, 28, 27, 32, 26, 32, 38, 37,\n",
      "        28, 42,  1, 35, 24,  1, 26, 44, 28, 45, 24,  3,  1,  0,  0,  0,  0, 39,\n",
      "        50, 67, 50,  1, 33,  1, 64, 62, 58,  1, 30, 50, 67, 52, 88, 50,  1, 24,\n",
      "        68, 52, 64, 69,  1,  0, 74,  1, 36, 50, 67, 88, 50,  1, 35, 70, 58, 68,\n",
      "        50,  1, 28, 61, 58, 64,  1,  0,  0,  0,  0, 26, 58, 54, 63,  1, 50, 89,\n",
      "        64, 68,  1, 53, 54,  1, 68, 64, 61, 54, 53, 50, 53,  1,  0,  0,  0,  0,\n",
      "        30, 50, 51, 67, 58, 54, 61,  1, 30, 50, 67, 52, 88, 50,  1, 36, 86, 67,\n",
      "        66, 70, 54, 75,  1,  0,  0,  0,  0, 36, 70, 52, 57, 64, 68,  1, 50, 89,\n",
      "        64, 68,  1, 53, 54, 68, 65, 70, 87, 68,  7,  1, 55, 67, 54, 63, 69, 54,\n",
      "         1, 50, 61,  1, 65, 54, 61, 64, 69, 90, 63,  1, 53, 54,  1, 55, 70, 68,\n",
      "        58, 61, 50, 62, 58, 54, 63, 69, 64,  7,  1, 54, 61,  1, 52, 64, 67, 64,\n",
      "        63, 54, 61,  1, 24, 70, 67, 54, 61, 58, 50, 63, 64,  1, 25, 70, 54, 63,\n",
      "        53, 88, 50,  1, 57, 50, 51, 88, 50,  1, 53, 54,  1,  0, 67, 54, 52, 64,\n",
      "        67, 53, 50, 67,  1, 50, 66, 70, 54, 61, 61, 50,  1, 69, 50, 67, 53, 54,\n",
      "         1, 67, 54, 62, 64, 69, 50,  1, 54, 63,  1, 66, 70, 54,  1, 68, 70,  1,\n",
      "        65, 50, 53, 67, 54,  1, 61, 64,  1, 61, 61, 54, 71, 90,  1, 50,  1, 52,\n",
      "        64, 63, 64, 52, 54, 67,  1, 54, 61,  1, 57, 58, 54, 61, 64,  9,  1, 36,\n",
      "        50, 52, 64, 63, 53, 64,  1, 54, 67, 50,  1, 54, 63, 69, 64, 63, 52, 54,\n",
      "        68,  1,  0, 70, 63, 50,  1, 50, 61, 53, 54, 50,  1, 53, 54,  1, 71, 54,\n",
      "        58, 63, 69, 54,  1, 52, 50, 68, 50, 68,  1, 53, 54,  1, 51, 50, 67, 67,\n",
      "        64,  1, 74,  1, 52, 50, 89, 50, 51, 67, 50, 71, 50,  1, 52, 64, 63, 68,\n",
      "        69, 67, 70, 58, 53, 50, 68,  1, 50,  1, 61, 50,  1, 64, 67, 58, 61, 61,\n",
      "        50,  1, 53, 54,  1, 70, 63,  1, 67, 88, 64,  1, 53, 54,  1, 50, 56, 70,\n",
      "        50, 68,  1, 53, 58, 86, 55, 50, 63, 50, 68,  1,  0, 66, 70, 54,  1, 68,\n",
      "        54,  1, 65, 67, 54, 52, 58, 65, 58, 69, 50, 51, 50, 63,  1, 65, 64, 67,\n",
      "         1, 70, 63,  1, 61, 54, 52, 57, 64,  1, 53, 54,  1, 65, 58, 54, 53, 67,\n",
      "        50, 68,  1, 65, 70, 61, 58, 53, 50, 68,  7,  1, 51, 61, 50, 63, 52, 50,\n",
      "        68,  1, 74,  1, 54, 63, 64, 67, 62, 54, 68,  1, 52, 64, 62, 64,  1, 57,\n",
      "        70, 54, 71, 64, 68,  1,  0, 65, 67, 54, 57, 58, 68, 69, 90, 67, 58, 52,\n",
      "        64, 68,  9,  1, 28, 61,  1, 62, 70, 63, 53, 64,  1, 54, 67, 50,  1, 69,\n",
      "        50, 63,  1, 67, 54, 52, 58, 54, 63, 69, 54,  7,  1, 66, 70, 54,  1, 62,\n",
      "        70, 52, 57, 50, 68,  1, 52, 64, 68, 50, 68,  1, 52, 50, 67, 54, 52, 88,\n",
      "        50, 63,  1, 53, 54,  1, 63, 64, 62, 51, 67, 54,  7,  1, 74,  1, 65, 50,\n",
      "        67, 50,  1,  0, 62, 54, 63, 52, 58, 64, 63, 50, 67, 61, 50, 68,  1, 57,\n",
      "        50, 51, 88, 50,  1, 66, 70, 54,  1, 68, 54, 89, 50, 61, 50, 67, 88, 50,\n",
      "        68,  1, 52, 64, 63,  1, 54, 61,  1, 53, 54, 53, 64,  9,  1, 43, 64, 53,\n",
      "        64, 68,  1, 61, 64, 68,  1, 50, 89, 64, 68,  7,  1, 65, 64, 67,  1, 54,\n",
      "        61,  1, 62, 54, 68,  1, 53, 54,  1, 62, 50, 67, 75, 64,  7,  1, 70, 63,\n",
      "        50,  1, 55, 50, 62, 58, 61, 58, 50,  1,  0, 53, 54,  1, 56, 58, 69, 50,\n",
      "        63, 64, 68,  1, 53, 54, 68, 50, 67, 67, 50, 65, 50, 53, 64, 68,  1, 65,\n",
      "        61, 50, 63, 69, 50, 51, 50,  1, 68, 70,  1, 52, 50, 67, 65, 50,  1, 52,\n",
      "        54, 67, 52, 50,  1, 53, 54,  1, 61, 50,  1, 50, 61, 53, 54, 50,  7,  1,\n",
      "        74,  1, 52, 64, 63,  1, 70, 63,  1, 56, 67, 50, 63, 53, 54,  1, 50, 61,\n",
      "        51, 64, 67, 64, 69, 64,  1, 53, 54,  1, 65, 58, 69, 64, 68,  1, 74,  1,\n",
      "         0, 69, 58, 62, 51, 50, 61, 54, 68,  1, 53, 50, 51, 50, 63,  1, 50,  1,\n",
      "        52, 64, 63, 64, 52, 54, 67,  1, 61, 64, 68,  1, 63, 70, 54, 71, 64, 68,\n",
      "         1, 58, 63, 71, 54, 63, 69, 64, 68,  9,  1, 39, 67, 58, 62, 54, 67, 64,\n",
      "         1, 61, 61, 54, 71, 50, 67, 64, 63,  1, 54, 61,  1, 58, 62, 86, 63,  9,\n",
      "         1, 44, 63,  1, 56, 58, 69, 50, 63, 64,  1, 52, 64, 67, 65, 70, 61, 54,\n",
      "        63, 69, 64,  7,  1, 53, 54,  1,  0, 51, 50, 67, 51, 50,  1, 62, 64, 63,\n",
      "        69, 50, 67, 50, 75,  1, 74,  1, 62, 50, 63, 64, 68,  1, 53, 54,  1, 56,\n",
      "        64, 67, 67, 58, 90, 63,  7,  1, 66, 70, 54,  1, 68, 54,  1, 65, 67, 54,\n",
      "        68, 54, 63, 69, 90,  1, 52, 64, 63,  1])\n"
     ]
    }
   ],
   "source": [
    "# let's now encode the entire text dataset and store it into a torch.Tensor\n",
    "import torch # we use PyTorch: https://pytorch.org\n",
    "data = torch.tensor(encode(text), dtype=torch.long)\n",
    "print(data.shape, data.dtype)\n",
    "print(data[:1000]) # the 1000 characters we looked at earier will to the GPT look like this"
   ]
  },
  {
   "attachments": {},
   "cell_type": "markdown",
   "metadata": {
    "slideshow": {
     "slide_type": "slide"
    }
   },
   "source": [
    "# Splitting up the data\n",
    "we have to split up the data into training and then a little bit leftover to see how our model performs. "
   ]
  },
  {
   "cell_type": "code",
   "execution_count": 8,
   "metadata": {},
   "outputs": [],
   "source": [
    "n = int(0.9*len(data)) # first 90% will be train, the rest will be validation \n",
    "train_data = data[:n]\n",
    "val_data = data[n:]"
   ]
  },
  {
   "attachments": {},
   "cell_type": "markdown",
   "metadata": {
    "slideshow": {
     "slide_type": "slide"
    }
   },
   "source": [
    "# Final Code"
   ]
  },
  {
   "cell_type": "code",
   "execution_count": 9,
   "metadata": {},
   "outputs": [
    {
     "name": "stdout",
     "output_type": "stream",
     "text": [
      "0.213341 M parameters\n",
      "step 0: train loss 4.7100, val loss 4.7041\n",
      "step 100: train loss 2.4796, val loss 2.4586\n",
      "step 200: train loss 2.3588, val loss 2.3330\n",
      "step 300: train loss 2.2958, val loss 2.2807\n",
      "step 400: train loss 2.2489, val loss 2.2326\n",
      "step 500: train loss 2.1920, val loss 2.1914\n",
      "step 600: train loss 2.1464, val loss 2.1370\n",
      "step 700: train loss 2.1012, val loss 2.0808\n",
      "step 800: train loss 2.0507, val loss 2.0553\n",
      "step 900: train loss 1.9996, val loss 2.0096\n",
      "step 1000: train loss 1.9788, val loss 1.9747\n",
      "step 1100: train loss 1.9522, val loss 1.9510\n",
      "step 1200: train loss 1.9208, val loss 1.9343\n",
      "step 1300: train loss 1.8977, val loss 1.9052\n",
      "step 1400: train loss 1.8699, val loss 1.8736\n",
      "step 1500: train loss 1.8544, val loss 1.8752\n",
      "step 1600: train loss 1.8282, val loss 1.8650\n",
      "step 1700: train loss 1.8061, val loss 1.8256\n",
      "step 1800: train loss 1.7921, val loss 1.8093\n",
      "step 1900: train loss 1.7846, val loss 1.8042\n",
      "step 2000: train loss 1.7779, val loss 1.7966\n",
      "step 2100: train loss 1.7583, val loss 1.7777\n",
      "step 2200: train loss 1.7545, val loss 1.7826\n",
      "step 2300: train loss 1.7326, val loss 1.7607\n",
      "step 2400: train loss 1.7187, val loss 1.7480\n",
      "step 2500: train loss 1.7161, val loss 1.7478\n",
      "step 2600: train loss 1.6978, val loss 1.7331\n",
      "step 2700: train loss 1.6843, val loss 1.7240\n",
      "step 2800: train loss 1.6771, val loss 1.7110\n",
      "step 2900: train loss 1.6726, val loss 1.7080\n",
      "step 3000: train loss 1.6541, val loss 1.7110\n",
      "step 3100: train loss 1.6478, val loss 1.6978\n",
      "step 3200: train loss 1.6497, val loss 1.6837\n",
      "step 3300: train loss 1.6229, val loss 1.6805\n",
      "step 3400: train loss 1.6339, val loss 1.6808\n",
      "step 3500: train loss 1.6314, val loss 1.6639\n",
      "step 3600: train loss 1.6283, val loss 1.6800\n",
      "step 3700: train loss 1.6114, val loss 1.6699\n",
      "step 3800: train loss 1.5977, val loss 1.6607\n",
      "step 3900: train loss 1.5977, val loss 1.6493\n",
      "step 4000: train loss 1.6024, val loss 1.6482\n",
      "step 4100: train loss 1.5847, val loss 1.6374\n",
      "step 4200: train loss 1.5869, val loss 1.6507\n",
      "step 4300: train loss 1.5889, val loss 1.6400\n",
      "step 4400: train loss 1.5782, val loss 1.6375\n",
      "step 4500: train loss 1.5630, val loss 1.6303\n",
      "step 4600: train loss 1.5522, val loss 1.6120\n",
      "step 4700: train loss 1.5632, val loss 1.6120\n",
      "step 4800: train loss 1.5576, val loss 1.6069\n",
      "step 4900: train loss 1.5449, val loss 1.6118\n",
      "step 4999: train loss 1.5366, val loss 1.6046\n",
      "\n",
      "\n",
      "\n",
      "30 \n",
      "\n",
      "Ciera entre. Úrsula menias, porque sus atrazas y del \n",
      "piejo el dicaron de que era cólla. \n",
      "\n",
      "-VI emolvería por la ingunió termo algún distarás vios persomes del caral de los condaba cuanda \n",
      "para al correpter, porque el asolgaban pensones vez la norre con la descondía algo por en las prinsas denabujes de trmerla que levarán a pil espara contracción, y con la disincia pensar donde \n",
      "abella quería, sus apeldas fragoles a \n",
      "\n",
      "-Esposecido de gonerla los contras en aquellos las pelegarse ella en el amante revisivios con el parecito del \n",
      "-Meños días tante vendando en ente can yar una siencla de mucho. Úrsula tejo algo de las \n",
      "años. Fernanda \n",
      "de Aurella \n",
      "\n",
      "-Cien ábneña con tuvierne las dos en la almovido. Fue allara en la cadra del vuirse de proteda mermos y \n",
      "en el amor \n",
      "que allevó crarse, biendo por los tuvos problecer volvundo a jober que en tombrar la \n",
      "protómen de la la \n",
      "rasa sus \n",
      "memejas. Una dolvivarió en partinas frenerias ver biego no se había todo que en el irgo y cuando y conservarse \n",
      "fuéndo \n",
      "crivo dirlejar en el sueixas despuerte de ligró case porque tardo en el vise die lubargo en la opestnala de su casa, trabajo Aureliano, Segundo ha Úrsula Mecer eso no perdiras de convincinacte. \n",
      "\n",
      "Ellos mosmbil,» del carrecitos de considerar. \n",
      "\n",
      "Asía trastíPlo. \n",
      "\n",
      "Les puntar una restavo y asugio, compascas de ráctes displugata de \n",
      "Melquíades \n",
      "\n",
      "\n",
      "\n",
      "Cien camingo, \n",
      "\n",
      "\n",
      "-Quía todo el almacanzó de la pástrelosa, y exilusado, desantera que por arcarron el \n",
      "fetontó encontró los bisien poneros de todo Úrsula Axalcar borrarre en en sus ciertes espestras de soledad -le alquz de sus pacrados a pasonían de los aujegos de y años a Partiendos del proter, despegría, \n",
      "\n",
      "\n",
      "\n",
      "\n",
      "Cien años. «U volvió el dondo \n",
      "\n",
      "\n",
      "García \n",
      "\n",
      "Dos los solvirió esco la \n",
      "ovidó \n",
      "sente imignas y esas engonce impluscica y \n",
      "ella suscabon con lavos allanría prutes días \n",
      "pelecionó o silunción en de \n",
      "menas casas sus embaxinas de él dirregista dispocaban aítibariza formasivos con finica los endiéndose del antras para benia \n",
      "despuencia, un\n"
     ]
    }
   ],
   "source": [
    "import torch\n",
    "import torch.nn as nn\n",
    "from torch.nn import functional as F\n",
    "\n",
    "# hyperparameters\n",
    "batch_size = 16 # how many independent sequences will we process in parallel?\n",
    "block_size = 32 # what is the maximum context length for predictions?\n",
    "max_iters = 5000\n",
    "eval_interval = 100\n",
    "learning_rate = 1e-3\n",
    "device = 'cuda' if torch.cuda.is_available() else 'cpu'\n",
    "eval_iters = 200\n",
    "n_embd = 64\n",
    "n_head = 4\n",
    "n_layer = 4\n",
    "dropout = 0.0\n",
    "# ------------\n",
    "\n",
    "torch.manual_seed(1337)\n",
    "\n",
    "# wget https://raw.githubusercontent.com/karpathy/char-rnn/master/data/tinyshakespeare/input.txt\n",
    "with open('test.txt', 'r', encoding='utf-8') as f:\n",
    "    text = f.read()\n",
    "\n",
    "# here are all the unique characters that occur in this text\n",
    "chars = sorted(list(set(text)))\n",
    "vocab_size = len(chars)\n",
    "# create a mapping from characters to integers\n",
    "stoi = { ch:i for i,ch in enumerate(chars) }\n",
    "itos = { i:ch for i,ch in enumerate(chars) }\n",
    "encode = lambda s: [stoi[c] for c in s] # encoder: take a string, output a list of integers\n",
    "decode = lambda l: ''.join([itos[i] for i in l]) # decoder: take a list of integers, output a string\n",
    "\n",
    "# Train and test splits\n",
    "data = torch.tensor(encode(text), dtype=torch.long)\n",
    "n = int(0.9*len(data)) # first 90% will be train, rest val\n",
    "train_data = data[:n]\n",
    "val_data = data[n:]\n",
    "\n",
    "# data loading\n",
    "def get_batch(split):\n",
    "    # generate a small batch of data of inputs x and targets y\n",
    "    data = train_data if split == 'train' else val_data\n",
    "    ix = torch.randint(len(data) - block_size, (batch_size,))\n",
    "    x = torch.stack([data[i:i+block_size] for i in ix])\n",
    "    y = torch.stack([data[i+1:i+block_size+1] for i in ix])\n",
    "    x, y = x.to(device), y.to(device)\n",
    "    return x, y\n",
    "\n",
    "@torch.no_grad()\n",
    "def estimate_loss():\n",
    "    out = {}\n",
    "    model.eval()\n",
    "    for split in ['train', 'val']:\n",
    "        losses = torch.zeros(eval_iters)\n",
    "        for k in range(eval_iters):\n",
    "            X, Y = get_batch(split)\n",
    "            logits, loss = model(X, Y)\n",
    "            losses[k] = loss.item()\n",
    "        out[split] = losses.mean()\n",
    "    model.train()\n",
    "    return out\n",
    "\n",
    "class Head(nn.Module):\n",
    "    \"\"\" one head of self-attention \"\"\"\n",
    "\n",
    "    def __init__(self, head_size):\n",
    "        super().__init__()\n",
    "        self.key = nn.Linear(n_embd, head_size, bias=False)\n",
    "        self.query = nn.Linear(n_embd, head_size, bias=False)\n",
    "        self.value = nn.Linear(n_embd, head_size, bias=False)\n",
    "        self.register_buffer('tril', torch.tril(torch.ones(block_size, block_size)))\n",
    "\n",
    "        self.dropout = nn.Dropout(dropout)\n",
    "\n",
    "    def forward(self, x):\n",
    "        B,T,C = x.shape\n",
    "        k = self.key(x)   # (B,T,C)\n",
    "        q = self.query(x) # (B,T,C)\n",
    "        # compute attention scores (\"affinities\")\n",
    "        wei = q @ k.transpose(-2,-1) * C**-0.5 # (B, T, C) @ (B, C, T) -> (B, T, T)\n",
    "        wei = wei.masked_fill(self.tril[:T, :T] == 0, float('-inf')) # (B, T, T)\n",
    "        wei = F.softmax(wei, dim=-1) # (B, T, T)\n",
    "        wei = self.dropout(wei)\n",
    "        # perform the weighted aggregation of the values\n",
    "        v = self.value(x) # (B,T,C)\n",
    "        out = wei @ v # (B, T, T) @ (B, T, C) -> (B, T, C)\n",
    "        return out\n",
    "\n",
    "class MultiHeadAttention(nn.Module):\n",
    "    \"\"\" multiple heads of self-attention in parallel \"\"\"\n",
    "\n",
    "    def __init__(self, num_heads, head_size):\n",
    "        super().__init__()\n",
    "        self.heads = nn.ModuleList([Head(head_size) for _ in range(num_heads)])\n",
    "        self.proj = nn.Linear(n_embd, n_embd)\n",
    "        self.dropout = nn.Dropout(dropout)\n",
    "\n",
    "    def forward(self, x):\n",
    "        out = torch.cat([h(x) for h in self.heads], dim=-1)\n",
    "        out = self.dropout(self.proj(out))\n",
    "        return out\n",
    "\n",
    "class FeedFoward(nn.Module):\n",
    "    \"\"\" a simple linear layer followed by a non-linearity \"\"\"\n",
    "\n",
    "    def __init__(self, n_embd):\n",
    "        super().__init__()\n",
    "        self.net = nn.Sequential(\n",
    "            nn.Linear(n_embd, 4 * n_embd),\n",
    "            nn.ReLU(),\n",
    "            nn.Linear(4 * n_embd, n_embd),\n",
    "            nn.Dropout(dropout),\n",
    "        )\n",
    "\n",
    "    def forward(self, x):\n",
    "        return self.net(x)\n",
    "\n",
    "class Block(nn.Module):\n",
    "    \"\"\" Transformer block: communication followed by computation \"\"\"\n",
    "\n",
    "    def __init__(self, n_embd, n_head):\n",
    "        # n_embd: embedding dimension, n_head: the number of heads we'd like\n",
    "        super().__init__()\n",
    "        head_size = n_embd // n_head\n",
    "        self.sa = MultiHeadAttention(n_head, head_size)\n",
    "        self.ffwd = FeedFoward(n_embd)\n",
    "        self.ln1 = nn.LayerNorm(n_embd)\n",
    "        self.ln2 = nn.LayerNorm(n_embd)\n",
    "\n",
    "    def forward(self, x):\n",
    "        x = x + self.sa(self.ln1(x))\n",
    "        x = x + self.ffwd(self.ln2(x))\n",
    "        return x\n",
    "\n",
    "# super simple bigram model\n",
    "class BigramLanguageModel(nn.Module):\n",
    "\n",
    "    def __init__(self):\n",
    "        super().__init__()\n",
    "        # each token directly reads off the logits for the next token from a lookup table\n",
    "        self.token_embedding_table = nn.Embedding(vocab_size, n_embd)\n",
    "        self.position_embedding_table = nn.Embedding(block_size, n_embd)\n",
    "        self.blocks = nn.Sequential(*[Block(n_embd, n_head=n_head) for _ in range(n_layer)])\n",
    "        self.ln_f = nn.LayerNorm(n_embd) # final layer norm\n",
    "        self.lm_head = nn.Linear(n_embd, vocab_size)\n",
    "\n",
    "    def forward(self, idx, targets=None):\n",
    "        B, T = idx.shape\n",
    "\n",
    "        # idx and targets are both (B,T) tensor of integers\n",
    "        tok_emb = self.token_embedding_table(idx) # (B,T,C)\n",
    "        pos_emb = self.position_embedding_table(torch.arange(T, device=device)) # (T,C)\n",
    "        x = tok_emb + pos_emb # (B,T,C)\n",
    "        x = self.blocks(x) # (B,T,C)\n",
    "        x = self.ln_f(x) # (B,T,C)\n",
    "        logits = self.lm_head(x) # (B,T,vocab_size)\n",
    "\n",
    "        if targets is None:\n",
    "            loss = None\n",
    "        else:\n",
    "            B, T, C = logits.shape\n",
    "            logits = logits.view(B*T, C)\n",
    "            targets = targets.view(B*T)\n",
    "            loss = F.cross_entropy(logits, targets)\n",
    "\n",
    "        return logits, loss\n",
    "\n",
    "    def generate(self, idx, max_new_tokens):\n",
    "        # idx is (B, T) array of indices in the current context\n",
    "        for _ in range(max_new_tokens):\n",
    "            # crop idx to the last block_size tokens\n",
    "            idx_cond = idx[:, -block_size:]\n",
    "            # get the predictions\n",
    "            logits, loss = self(idx_cond)\n",
    "            # focus only on the last time step\n",
    "            logits = logits[:, -1, :] # becomes (B, C)\n",
    "            # apply softmax to get probabilities\n",
    "            probs = F.softmax(logits, dim=-1) # (B, C)\n",
    "            # sample from the distribution\n",
    "            idx_next = torch.multinomial(probs, num_samples=1) # (B, 1)\n",
    "            # append sampled index to the running sequence\n",
    "            idx = torch.cat((idx, idx_next), dim=1) # (B, T+1)\n",
    "        return idx\n",
    "\n",
    "model = BigramLanguageModel()\n",
    "m = model.to(device)\n",
    "# print the number of parameters in the model\n",
    "print(sum(p.numel() for p in m.parameters())/1e6, 'M parameters')\n",
    "\n",
    "# create a PyTorch optimizer\n",
    "optimizer = torch.optim.AdamW(model.parameters(), lr=learning_rate)\n",
    "\n",
    "# save values for plotting purposes\n",
    "train_loss = []\n",
    "val_loss = []\n",
    "iter_step = []\n",
    "\n",
    "for iter in range(max_iters):\n",
    "\n",
    "    # every once in a while evaluate the loss on train and val sets\n",
    "    if iter % eval_interval == 0 or iter == max_iters - 1:\n",
    "        losses = estimate_loss()\n",
    "        print(f\"step {iter}: train loss {losses['train']:.4f}, val loss {losses['val']:.4f}\")\n",
    "\n",
    "        # save values for plotting purposes \n",
    "        iter_step.append(iter)\n",
    "        train_loss.append(losses['train'])\n",
    "        val_loss.append(losses['val'])\n",
    "\n",
    "    # sample a batch of data\n",
    "    xb, yb = get_batch('train')\n",
    "\n",
    "    # evaluate the loss\n",
    "    logits, loss = model(xb, yb)\n",
    "    optimizer.zero_grad(set_to_none=True)\n",
    "    loss.backward()\n",
    "    optimizer.step()\n",
    "\n",
    "# generate from the model\n",
    "context = torch.zeros((1, 1), dtype=torch.long, device=device)\n",
    "print(decode(m.generate(context, max_new_tokens=2000)[0].tolist()))\n"
   ]
  },
  {
   "cell_type": "code",
   "execution_count": 15,
   "metadata": {},
   "outputs": [
    {
     "data": {
      "image/png": "[encoded data removed]",
      "text/plain": [
       "<Figure size 640x480 with 1 Axes>"
      ]
     },
     "metadata": {},
     "output_type": "display_data"
    }
   ],
   "source": [
    "import matplotlib.pyplot as plt \n",
    "import seaborn as sns\n",
    "\n",
    "sns.set_theme()\n",
    "plt.plot(iter_step, train_loss, label='Training loss')\n",
    "plt.plot(iter_step, val_loss, label='Validation loss')\n",
    "plt.legend()\n",
    "plt.xlabel('Iteration step #')\n",
    "plt.ylabel('loss')\n",
    "plt.suptitle('Loss over time')\n",
    "plt.show()"
   ]
  }
 ],
 "metadata": {
  "celltoolbar": "Slideshow",
  "kernelspec": {
   "display_name": "Python 3 (ipykernel)",
   "language": "python",
   "name": "python3"
  },
  "language_info": {
   "codemirror_mode": {
    "name": "ipython",
    "version": 3
   },
   "file_extension": ".py",
   "mimetype": "text/x-python",
   "name": "python",
   "nbconvert_exporter": "python",
   "pygments_lexer": "ipython3",
   "version": "3.11.0"
  }
 },
 "nbformat": 4,
 "nbformat_minor": 2
}
